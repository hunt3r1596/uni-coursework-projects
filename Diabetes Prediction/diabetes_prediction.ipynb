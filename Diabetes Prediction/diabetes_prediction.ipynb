{
 "cells": [
  {
   "cell_type": "markdown",
   "source": [
    "According to the International Diabetes Federation, type 2 diabetes accounts for ~90% of all cases of diabetes, resulting in an estimated 6.7 million deaths in 2021. By 2030 the World Health Organisation (WHO) predicts 366 million people with diabetes (∼5% of the world's population). Therefore, Early detection of type 2 diabetes is important for the prevention of diabetic complications. Early detection of patients with a high risk of developing type 2 diabetes can reduce the occurrence of the disease with a change in lifestyle, diet, or medication.\n",
    "\n",
    "The data provided has 500 entries (each representing an individual person) and 15 columns. These columns are described in the following table :\n",
    "\n",
    "![](data_info.png)\n",
    "\n",
    "\n",
    "A colleague from the Data Analytics team argued that there is no need to follow the medical team’s recommendations to use the above-mentioned articles, saying that you only need to clean the dataset before training your model(s) without any need to investigate further attributes. They say that you can choose features solely according to their correlation with the dependent variable. As part of your solution, you should state which approach you think is optimal for this task and justify your answer.\n",
    "\n",
    "So, the solution involves building a model based on colleague's recommendations and another in a traditional approach."
   ],
   "metadata": {
    "collapsed": false
   }
  },
  {
   "cell_type": "code",
   "execution_count": 5,
   "metadata": {
    "collapsed": true
   },
   "outputs": [],
   "source": [
    "import numpy as np\n",
    "import pandas as pd\n",
    "import matplotlib.pyplot as plt\n",
    "from sklearn.preprocessing import StandardScaler\n",
    "from sklearn.model_selection import train_test_split, cross_val_score\n",
    "from sklearn.metrics import confusion_matrix, accuracy_score, classification_report, ConfusionMatrixDisplay, recall_score\n",
    "from sklearn.linear_model import LogisticRegression\n",
    "from sklearn.tree import DecisionTreeClassifier\n",
    "from sklearn.ensemble import RandomForestClassifier, GradientBoostingClassifier, VotingClassifier\n",
    "from sklearn.naive_bayes import GaussianNB\n",
    "from sklearn.svm import SVC\n",
    "from sklearn.neural_network import MLPClassifier\n",
    "from sklearn.feature_selection import RFE\n",
    "from sklearn.feature_selection import SelectKBest\n",
    "from sklearn.feature_selection import chi2\n",
    "from sklearn.decomposition import PCA\n",
    "from sklearn.impute import SimpleImputer\n",
    "\n",
    "\n",
    "\n",
    "import warnings\n",
    "warnings.filterwarnings('ignore')"
   ]
  },
  {
   "cell_type": "markdown",
   "source": [
    "### Methods for data cleaning\n",
    "Replace : replacing the zeros with NaN and later, replacing them with most frequent values (mode)\n",
    "Remove  : removing the records with NaN or 0 values"
   ],
   "metadata": {
    "collapsed": false
   }
  },
  {
   "cell_type": "code",
   "execution_count": 6,
   "outputs": [],
   "source": [
    "def handle_missing_values(df, strategy = 'remove'):\n",
    "    if strategy == 'remove':\n",
    "        df.dropna(inplace=True)\n",
    "        df.drop_duplicates(inplace=True)\n",
    "    else:\n",
    "        #Replacing NaN values with selected features like most_frequent, median, mean\n",
    "        imputer = SimpleImputer(missing_values=np.NaN, strategy=strategy)\n",
    "        imputer = imputer.fit(df)\n",
    "        df_imp = imputer.transform(df)\n",
    "        df = pd.DataFrame(df_imp, columns=df.columns)\n",
    "    return df\n",
    "\n",
    "def remove_zeroes(df):\n",
    "    remove_zeroes_list = ['Height /stature (cm)', 'weight1 (Kg)', 'weight2(Kg)', 'BMI (Kg/m^2)', 'waist (cm)', 'hip (cm)']\n",
    "    for feature in remove_zeroes_list:\n",
    "        null_indices = df[df[feature] == 0].index\n",
    "        print('Cleaning Zero values in Feature : ' + feature + ' - ', null_indices.values)\n",
    "        df.drop(null_indices, inplace=True)\n",
    "    return df\n",
    "\n",
    "def handle_zeroes(df, strategy = 'replace'):\n",
    "    if strategy == 'remove':\n",
    "        df = remove_zeroes(df)\n",
    "    else:\n",
    "        df.replace(0, np.NaN, inplace=True)\n",
    "    return df"
   ],
   "metadata": {
    "collapsed": false
   }
  },
  {
   "cell_type": "markdown",
   "source": [
    "### Methods to test models (Generic)\n",
    "default test_size as 0.25\n",
    "Helper method to compare multiple models performance on same data"
   ],
   "metadata": {
    "collapsed": false
   }
  },
  {
   "cell_type": "code",
   "execution_count": 7,
   "outputs": [],
   "source": [
    "def test_models(X, Y, models, test_size = 0.25):\n",
    "    x_train, x_test, y_train, y_test = train_test_split(X,Y, test_size= test_size, random_state=42)\n",
    "\n",
    "    default_compare = ['accuracy', 'recall']\n",
    "    compare_model_results = pd.DataFrame(columns = default_compare)\n",
    "\n",
    "    n_f = len(x_train.columns)\n",
    "\n",
    "    for model in models:\n",
    "        model.fit(x_train, y_train)\n",
    "        y_pred = model.predict(x_test)\n",
    "\n",
    "        accuracy = accuracy_score(y_test, y_pred)\n",
    "        recall = recall_score(y_test, y_pred)\n",
    "\n",
    "        compare_model_results.loc[str(model)] = [accuracy, recall]\n",
    "\n",
    "        # print('Model : ', type(model))\n",
    "        # print('Accuracy for : {:.2f}'.format(accuracy_score(y_test, y_pred)))\n",
    "        # print('Recall for : {:.2f}'.format(recall_score(y_test, y_pred)))\n",
    "        # print('------------------------------------------------')\n",
    "    print(compare_model_results)"
   ],
   "metadata": {
    "collapsed": false
   }
  },
  {
   "cell_type": "markdown",
   "source": [
    "Generic method to run and model and print eval scores like Accuracy, Recall and Classification Report"
   ],
   "metadata": {
    "collapsed": false
   }
  },
  {
   "cell_type": "code",
   "execution_count": 45,
   "outputs": [],
   "source": [
    "from sklearn.metrics import balanced_accuracy_score\n",
    "\n",
    "\n",
    "def execute_model(X, Y, model, scores = ['accuracy', 'recall'], test_size=0.25):\n",
    "    x_train, x_test, y_train, y_test = train_test_split(X,Y, test_size= test_size, random_state=42)\n",
    "\n",
    "    model.fit(x_train, y_train)\n",
    "    y_pred = model.predict(x_test)\n",
    "\n",
    "    if 'accuracy' in scores:\n",
    "        print('Accuracy : {:.2f}'.format(accuracy_score(y_test, y_pred)))\n",
    "    if 'b_accuracy' in scores:\n",
    "        print('Balanced Accuracy : {:.2f}'.format(balanced_accuracy_score(y_test, y_pred)))\n",
    "    if 'recall' in scores:\n",
    "        print('Recall : {:.2f}'.format(recall_score(y_test, y_pred)))\n",
    "    if 'report' in scores:\n",
    "        print('Classification Report :' , classification_report(y_test, y_pred))\n",
    "\n"
   ],
   "metadata": {
    "collapsed": false
   }
  },
  {
   "cell_type": "markdown",
   "source": [
    "Method return a Voting Classifier with mentioned models as estimators"
   ],
   "metadata": {
    "collapsed": false
   }
  },
  {
   "cell_type": "code",
   "execution_count": 10,
   "outputs": [],
   "source": [
    "def voting_ensemble(models):\n",
    "    estimators = []\n",
    "    for model in models:\n",
    "        est = (str(model) , model)\n",
    "        estimators.append(est)\n",
    "\n",
    "    return VotingClassifier(estimators=estimators, voting='hard')"
   ],
   "metadata": {
    "collapsed": false
   }
  },
  {
   "cell_type": "markdown",
   "source": [
    "### Helper methods to get X and Y\n",
    "To get the features set and target set seperately"
   ],
   "metadata": {
    "collapsed": false
   }
  },
  {
   "cell_type": "code",
   "execution_count": 11,
   "outputs": [],
   "source": [
    "def get_x(data, req_columns=None):\n",
    "    if req_columns is None:\n",
    "        req_columns = []\n",
    "    if len(req_columns) > 0:\n",
    "        return data[req_columns]\n",
    "    return data.drop(columns = ['Diabetes'])\n",
    "\n",
    "def get_y(data):\n",
    "    return data.Diabetes"
   ],
   "metadata": {
    "collapsed": false
   }
  },
  {
   "cell_type": "markdown",
   "source": [
    "### Methods to add features\n",
    "Based on the insights from Article 1 (Wang et al., 2016), WHR (waist-to-hip ratio), WSR (waist-to-stature ratio), and BMI (body mass index) are significantly associated with type 2 diabetes. Since, we already have BMI in the dataset, creating WSR and WHR as new features and removing the redundant features."
   ],
   "metadata": {
    "collapsed": false
   }
  },
  {
   "cell_type": "code",
   "execution_count": 12,
   "outputs": [],
   "source": [
    "def add_wsr(df):\n",
    "    df[\"WSR\"] = df['waist (cm)'] / df['Height /stature (cm)']\n",
    "    # df.drop(columns=['waist (cm)', 'Height /stature (cm)'], inplace=True)\n",
    "    return df\n",
    "\n",
    "def add_whr(df):\n",
    "    df[\"WHR\"] = df['waist (cm)'] / df['hip (cm)']\n",
    "    df.drop(columns=['waist (cm)', 'Height /stature (cm)', 'hip (cm)', 'weight1 (Kg)', 'weight2(Kg)'], inplace=True)\n",
    "    return df\n"
   ],
   "metadata": {
    "collapsed": false
   }
  },
  {
   "cell_type": "markdown",
   "source": [
    "### Methods to convert numerical features into categorical\n",
    "\n",
    "Article 4 (TheHealthSite, 2015) states that cholesterol levels can be further categorised based on their relation with Type 2 Diabetes. Therefore, based on the information from the article, we have categorised the data into two types - 1 and 0, where\n",
    "0 represents normal levels,\n",
    "1 illustrates the risk for diabetes."
   ],
   "metadata": {
    "collapsed": false
   }
  },
  {
   "cell_type": "code",
   "execution_count": 13,
   "outputs": [],
   "source": [
    "def convert_cholesterol_features(df):\n",
    "    df[' Cholesterol (mg/dl)'] = df[' Cholesterol (mg/dl)'].apply(lambda x : 1 if x > 240 else 0)\n",
    "    df['HDL Chol (mg/dl)'] = df['HDL Chol (mg/dl)'].apply(lambda x : 1 if x < 40 else 0)\n",
    "    df['TChol/HDL ratio'] = df['TChol/HDL ratio'].apply(lambda x : 1 if x > 4.5 else 0)\n",
    "    return df"
   ],
   "metadata": {
    "collapsed": false
   }
  },
  {
   "cell_type": "markdown",
   "source": [
    "The risk levels of Glucose for Diabetes were mentioned in Article 5 (Centers for Disease Control and Prevention, 2019). Based on that information, we divided Glucose data into two groups - normal (0) and high (1)."
   ],
   "metadata": {
    "collapsed": false
   }
  },
  {
   "cell_type": "code",
   "execution_count": 14,
   "outputs": [],
   "source": [
    "def convert_glucose(df):\n",
    "    df['Glucose (mg/dl)'] = df['Glucose (mg/dl)'].apply(lambda x : 1 if x > 100 else 0)\n",
    "    return df"
   ],
   "metadata": {
    "collapsed": false
   }
  },
  {
   "cell_type": "markdown",
   "source": [
    "Based on the results and research in Articles 1 and 3 (Wang et al., 2016 and Lee, Han and Kwon, 2019) related to Diabetes and insights into its relationship with age, we divided the data into two groups - < 50 and >= 50."
   ],
   "metadata": {
    "collapsed": false
   }
  },
  {
   "cell_type": "code",
   "execution_count": 15,
   "outputs": [],
   "source": [
    "def convert_age(df):\n",
    "    df['Age'] = df['Age'].apply(lambda x : 1 if x >= 50 else 0)\n",
    "    return df"
   ],
   "metadata": {
    "collapsed": false
   }
  },
  {
   "cell_type": "markdown",
   "source": [
    "Based on the results from Article 2 (Hillier and Pedula, 2001), considering the relation between age and blood pressure values for diabetes cases, we created a consolidated feature indicating high risk (1) and normal (0) levels using Age, SBP and DBP features."
   ],
   "metadata": {
    "collapsed": false
   }
  },
  {
   "cell_type": "code",
   "execution_count": 16,
   "outputs": [],
   "source": [
    "def map_age_bp(x):\n",
    "    if x['Age'] < 40:\n",
    "        if x['Systolic BP'] > 110 and x['Diastolic BP'] > 70:\n",
    "            return 1\n",
    "        return 0\n",
    "    elif x['Age'] >= 40:\n",
    "        if x['Systolic BP'] > 115 and x['Diastolic BP'] > 70:\n",
    "            return 1\n",
    "        return 0\n",
    "\n",
    "def convert_bp(df):\n",
    "    df['BP'] = df.apply(lambda x: map_age_bp(x), axis=1)\n",
    "    df.drop(columns=['Systolic BP', 'Diastolic BP'], inplace=True)\n",
    "    return df"
   ],
   "metadata": {
    "collapsed": false
   }
  },
  {
   "cell_type": "markdown",
   "source": [
    "Mapping the BMI values in combination with Age into 2 categories, i.e., low risk(0) and high risk(1)"
   ],
   "metadata": {
    "collapsed": false
   }
  },
  {
   "cell_type": "code",
   "execution_count": 17,
   "outputs": [],
   "source": [
    "def map_age_bmi(age, bmi):\n",
    "    if (age >= 50 and bmi >= 25) or (age < 50 and bmi >= 29):\n",
    "        return 1\n",
    "    return 0\n",
    "\n",
    "def convert_bmi(df):\n",
    "    df['BMI (Kg/m^2)'] = df.apply(lambda x : map_age_bmi(x['Age'], x['BMI (Kg/m^2)']), axis=1)\n",
    "    return df"
   ],
   "metadata": {
    "collapsed": false
   }
  },
  {
   "cell_type": "markdown",
   "source": [
    "### Feature Selection Algorithms\n",
    "\n",
    "Performing Recursive Feature Elimination Algorithm to pick the best features required to process and build the model"
   ],
   "metadata": {
    "collapsed": false
   }
  },
  {
   "cell_type": "code",
   "execution_count": 18,
   "outputs": [],
   "source": [
    "def rfe_feature_selection(df, i = 0):\n",
    "    X = df.drop(\"Diabetes\", axis=1)\n",
    "    y = df[\"Diabetes\"]\n",
    "\n",
    "    # model = LogisticRegression()\n",
    "    if i == 0:\n",
    "        rfe = RFE(estimator=DecisionTreeClassifier())\n",
    "    else:\n",
    "        rfe = RFE(estimator=DecisionTreeClassifier(), n_features_to_select = i)\n",
    "    # rfe = RFE(model)\n",
    "    rfe.fit(X, y)\n",
    "\n",
    "    important_features = X.columns[rfe.get_support()]\n",
    "    print('Features by RFE : ', important_features)\n",
    "    return important_features"
   ],
   "metadata": {
    "collapsed": false
   }
  },
  {
   "cell_type": "markdown",
   "source": [
    "Using the Chi-squared test, we are picking the features that are significant in predicting Diabetes"
   ],
   "metadata": {
    "collapsed": false
   }
  },
  {
   "cell_type": "code",
   "execution_count": 19,
   "outputs": [],
   "source": [
    "def k_best_feature_selection(df, k = None):\n",
    "    x_tmp = get_x(df)\n",
    "    y_tmp = get_y(df)\n",
    "\n",
    "    bestfeatures = SelectKBest(score_func=chi2, k=10)\n",
    "    fit = bestfeatures.fit(x_tmp,y_tmp)\n",
    "\n",
    "    dfscores = pd.DataFrame(fit.scores_)\n",
    "    dfcolumns = pd.DataFrame(x_tmp.columns)\n",
    "\n",
    "    featureScores = pd.concat([dfcolumns,dfscores],axis=1)\n",
    "    featureScores.columns = ['Features','Scores']\n",
    "    # print(featureScores.nlargest(15,'Scores').Features.values)\n",
    "    if k is None:\n",
    "        return featureScores.nlargest(len(dfcolumns),'Scores').Features.values\n",
    "    return featureScores.nlargest(k,'Scores').Features.values"
   ],
   "metadata": {
    "collapsed": false
   }
  },
  {
   "cell_type": "markdown",
   "source": [],
   "metadata": {
    "collapsed": false
   }
  },
  {
   "cell_type": "code",
   "execution_count": 20,
   "outputs": [],
   "source": [
    "def select_by_corr(df_corr):\n",
    "    corr_matrix = df_corr.corr()\n",
    "\n",
    "    # select the absolute value of correlation of dependent variable with other variables\n",
    "    corr_matrix_dependent = abs(corr_matrix[\"Diabetes\"])\n",
    "\n",
    "    # select highly correlated features\n",
    "    relevant_features = corr_matrix_dependent[corr_matrix_dependent >= 0.15]\n",
    "\n",
    "    print('Features by correlation values :- ')\n",
    "    if 'Diabetes' in relevant_features.index:\n",
    "        relevant_features = relevant_features.drop( labels = 'Diabetes')\n",
    "\n",
    "    print(relevant_features.index)\n",
    "    return relevant_features.index\n",
    "    # df_filtered = df_filtered[relevant_features.index]"
   ],
   "metadata": {
    "collapsed": false
   }
  },
  {
   "cell_type": "markdown",
   "source": [],
   "metadata": {
    "collapsed": false
   }
  },
  {
   "cell_type": "code",
   "execution_count": 21,
   "outputs": [],
   "source": [
    "def compare_performance_by_features(df, features, model):\n",
    "\n",
    "    default_compare = ['accuracy', 'recall']\n",
    "    compare_feature_results = pd.DataFrame(columns = default_compare)\n",
    "\n",
    "    max_score = -100\n",
    "    best_index = 2\n",
    "    for i in range(2, len(features)):\n",
    "        sub_features = features[0:i]\n",
    "\n",
    "        sub_dx = get_x(df, sub_features)\n",
    "        sub_dy = get_y(df)\n",
    "\n",
    "        x_train, x_test, y_train, y_test = train_test_split(sub_dx,sub_dy, test_size= 0.25, random_state=42)\n",
    "        model.fit(x_train, y_train)\n",
    "        y_pred = model.predict(x_test)\n",
    "\n",
    "        accuracy = accuracy_score(y_test, y_pred)\n",
    "        recall = recall_score(y_test, y_pred)\n",
    "\n",
    "        compare_feature_results.loc[str(model) + ' with features = ' + str(i)] = [accuracy, recall]\n",
    "        if max_score < recall:\n",
    "            best_index = i\n",
    "            max_score = recall\n",
    "\n",
    "    print(compare_feature_results)\n",
    "    return best_index"
   ],
   "metadata": {
    "collapsed": false
   }
  },
  {
   "cell_type": "markdown",
   "source": [],
   "metadata": {
    "collapsed": false
   }
  },
  {
   "cell_type": "code",
   "execution_count": 22,
   "outputs": [],
   "source": [
    "def pca_eval(df, cols):\n",
    "    pca = PCA(n_components=len(cols))\n",
    "    pca.fit(df[cols])\n",
    "\n",
    "    print('Explained variance ratio : ', pca.explained_variance_ratio_ * 100)\n",
    "\n",
    "    plt.plot(range(1, len(pca.explained_variance_ratio_) + 1), np.cumsum(pca.explained_variance_ratio_ * 100))\n",
    "    plt.axhline(y=80, color='green', linestyle='--')\n",
    "    plt.title(\"PCA Visualised : Cumulative Variance % vs Components\")\n",
    "    plt.xlabel('# of Components')\n",
    "    plt.ylabel('Cumulative % of explained variance')\n",
    "    plt.xticks([i for i in range(1, (len(cols) + 1))])"
   ],
   "metadata": {
    "collapsed": false
   }
  },
  {
   "cell_type": "markdown",
   "source": [],
   "metadata": {
    "collapsed": false
   }
  },
  {
   "cell_type": "markdown",
   "source": [
    "### Methods to follow Approach suggested by colleague\n",
    "\n",
    "After cleaning the data, as suggested by a colleague, instead of analysing the features, we are performing the chi-squared test for feature selection. Then, based on the Chi Squared ranking, we build a model that recursively adds features.\n",
    "\n",
    "Later based on the performance of those models, we selected the number of features that yielded the best performance."
   ],
   "metadata": {
    "collapsed": false
   }
  },
  {
   "cell_type": "code",
   "execution_count": 23,
   "outputs": [],
   "source": [
    "def direct_approach(df, feature_selection = None, feature_count = 0, zeroes_strat = 'replace', missing_strat = 'most_frequent'):\n",
    "\n",
    "    dfd_cleaned = handle_zeroes(df, zeroes_strat)\n",
    "    dfd_cleaned = handle_missing_values(dfd_cleaned, missing_strat)\n",
    "\n",
    "    dfd_cleaned.Gender = dfd_cleaned.Gender.map({'male': 1, 'female': 0})\n",
    "    dfd_cleaned.Diabetes = dfd_cleaned.Diabetes.map({'Diabetes': 1, 'No diabetes': 0})\n",
    "\n",
    "    dfd_cleaned = dfd_cleaned.apply(pd.to_numeric)\n",
    "\n",
    "    important_features = []\n",
    "    if feature_selection == 'rfe':\n",
    "        important_features = rfe_feature_selection(dfd_cleaned)\n",
    "    elif feature_selection == 'k_best':\n",
    "        if feature_count > 0:\n",
    "            important_features = k_best_feature_selection(dfd_cleaned, feature_count)\n",
    "            best_f = feature_count\n",
    "        else:\n",
    "            important_features = k_best_feature_selection(dfd_cleaned)\n",
    "            rf = RandomForestClassifier()\n",
    "            best_f = compare_performance_by_features(dfd_cleaned, important_features, rf)\n",
    "\n",
    "    print('')\n",
    "    print('')\n",
    "    print('Based on above process, we have better recall rate for ' + str(best_f) + ' features')\n",
    "\n",
    "    final_dx = get_x(dfd_cleaned, important_features[0:best_f])\n",
    "    final_dy = get_y(dfd_cleaned)\n",
    "\n",
    "    execute_model(final_dx, final_dy, RandomForestClassifier(), ['recall', 'accuracy'])\n",
    "\n",
    "    if feature_count == 0:\n",
    "        print('')\n",
    "        print('')\n",
    "        print('Checking performance when picked features soley based on correlation with target variable')\n",
    "        corr_features = select_by_corr(dfd_cleaned)\n",
    "        corr_dx = get_x(dfd_cleaned, corr_features)\n",
    "        corr_dy = get_y(dfd_cleaned)\n",
    "        execute_model(corr_dx, corr_dy, RandomForestClassifier(), ['recall', 'accuracy'])\n",
    "\n",
    "    print('')\n",
    "    print('')\n",
    "    print('Comparing performance of selected apporach with different models and their Voting Ensemble')\n",
    "    rf = RandomForestClassifier()\n",
    "    gb = GradientBoostingClassifier()\n",
    "    svm = SVC()\n",
    "    dt = DecisionTreeClassifier()\n",
    "    vc_ensemble_d = voting_ensemble([rf, gb, dt])\n",
    "    test_models(final_dx, final_dy, [rf, gb, dt, vc_ensemble_d])\n",
    "    return final_dx, final_dy, vc_ensemble_d"
   ],
   "metadata": {
    "collapsed": false
   }
  },
  {
   "cell_type": "markdown",
   "source": [],
   "metadata": {
    "collapsed": false
   }
  },
  {
   "cell_type": "markdown",
   "source": [
    "### SOLUTION -------\n",
    "\n",
    "Loading and cleaing the data (replacing missing values with the most frequent strategy using Imputer)"
   ],
   "metadata": {
    "collapsed": false
   }
  },
  {
   "cell_type": "code",
   "execution_count": 25,
   "outputs": [
    {
     "data": {
      "text/plain": "    Cholesterol (mg/dl)  Glucose (mg/dl)  HDL Chol (mg/dl)  TChol/HDL ratio  \\\n0                 193.0             77.0              49.0              3.9   \n1                 146.0             79.0              41.0              3.6   \n2                 217.0             75.0              54.0              4.0   \n3                 226.0             97.0              70.0              3.2   \n4                 164.0             91.0              67.0              2.4   \n\n   Age  Gender  Height /stature (cm)  weight1 (Kg)  weight2(Kg)  BMI (Kg/m^2)  \\\n0   19       0                 154.9         54.93         54.0         22.88   \n1   19       0                 152.4         98.97         61.0         42.61   \n2   20       0                 170.2        116.22         85.0         40.13   \n3   20       0                 162.6         54.03         52.0         20.44   \n4   20       0                 177.8         83.08         64.0         26.28   \n\n   Systolic BP  Diastolic BP  waist (cm)  hip (cm)  Diabetes  \n0        118.0          70.0        81.3      96.5         0  \n1        108.0          58.0        83.8     101.6         0  \n2        110.0          72.0       101.6     114.3         0  \n3        122.0          64.0        78.7      99.1         0  \n4        122.0          86.0        81.3      99.1         0  ",
      "text/html": "<div>\n<style scoped>\n    .dataframe tbody tr th:only-of-type {\n        vertical-align: middle;\n    }\n\n    .dataframe tbody tr th {\n        vertical-align: top;\n    }\n\n    .dataframe thead th {\n        text-align: right;\n    }\n</style>\n<table border=\"1\" class=\"dataframe\">\n  <thead>\n    <tr style=\"text-align: right;\">\n      <th></th>\n      <th>Cholesterol (mg/dl)</th>\n      <th>Glucose (mg/dl)</th>\n      <th>HDL Chol (mg/dl)</th>\n      <th>TChol/HDL ratio</th>\n      <th>Age</th>\n      <th>Gender</th>\n      <th>Height /stature (cm)</th>\n      <th>weight1 (Kg)</th>\n      <th>weight2(Kg)</th>\n      <th>BMI (Kg/m^2)</th>\n      <th>Systolic BP</th>\n      <th>Diastolic BP</th>\n      <th>waist (cm)</th>\n      <th>hip (cm)</th>\n      <th>Diabetes</th>\n    </tr>\n  </thead>\n  <tbody>\n    <tr>\n      <th>0</th>\n      <td>193.0</td>\n      <td>77.0</td>\n      <td>49.0</td>\n      <td>3.9</td>\n      <td>19</td>\n      <td>0</td>\n      <td>154.9</td>\n      <td>54.93</td>\n      <td>54.0</td>\n      <td>22.88</td>\n      <td>118.0</td>\n      <td>70.0</td>\n      <td>81.3</td>\n      <td>96.5</td>\n      <td>0</td>\n    </tr>\n    <tr>\n      <th>1</th>\n      <td>146.0</td>\n      <td>79.0</td>\n      <td>41.0</td>\n      <td>3.6</td>\n      <td>19</td>\n      <td>0</td>\n      <td>152.4</td>\n      <td>98.97</td>\n      <td>61.0</td>\n      <td>42.61</td>\n      <td>108.0</td>\n      <td>58.0</td>\n      <td>83.8</td>\n      <td>101.6</td>\n      <td>0</td>\n    </tr>\n    <tr>\n      <th>2</th>\n      <td>217.0</td>\n      <td>75.0</td>\n      <td>54.0</td>\n      <td>4.0</td>\n      <td>20</td>\n      <td>0</td>\n      <td>170.2</td>\n      <td>116.22</td>\n      <td>85.0</td>\n      <td>40.13</td>\n      <td>110.0</td>\n      <td>72.0</td>\n      <td>101.6</td>\n      <td>114.3</td>\n      <td>0</td>\n    </tr>\n    <tr>\n      <th>3</th>\n      <td>226.0</td>\n      <td>97.0</td>\n      <td>70.0</td>\n      <td>3.2</td>\n      <td>20</td>\n      <td>0</td>\n      <td>162.6</td>\n      <td>54.03</td>\n      <td>52.0</td>\n      <td>20.44</td>\n      <td>122.0</td>\n      <td>64.0</td>\n      <td>78.7</td>\n      <td>99.1</td>\n      <td>0</td>\n    </tr>\n    <tr>\n      <th>4</th>\n      <td>164.0</td>\n      <td>91.0</td>\n      <td>67.0</td>\n      <td>2.4</td>\n      <td>20</td>\n      <td>0</td>\n      <td>177.8</td>\n      <td>83.08</td>\n      <td>64.0</td>\n      <td>26.28</td>\n      <td>122.0</td>\n      <td>86.0</td>\n      <td>81.3</td>\n      <td>99.1</td>\n      <td>0</td>\n    </tr>\n  </tbody>\n</table>\n</div>"
     },
     "execution_count": 25,
     "metadata": {},
     "output_type": "execute_result"
    }
   ],
   "source": [
    "df_raw = pd.read_csv('./Data/Diabetes_raw_dataset.csv')\n",
    "df_raw.drop(columns = ['Patient number'], inplace=True)\n",
    "\n",
    "\n",
    "# df_cleaned = clean_data(df_raw)\n",
    "df_cleaned = handle_zeroes(df_raw)\n",
    "df_cleaned = handle_missing_values(df_cleaned, 'most_frequent')\n",
    "\n",
    "df_cleaned.Gender = df_cleaned.Gender.map({'male': 1, 'female': 0})\n",
    "df_cleaned.Diabetes = df_cleaned.Diabetes.map({'Diabetes': 1, 'No diabetes': 0})\n",
    "df_cleaned = df_cleaned.apply(pd.to_numeric)\n",
    "# print(df_cleaned.dtypes)\n",
    "df_cleaned.head()"
   ],
   "metadata": {
    "collapsed": false
   }
  },
  {
   "cell_type": "markdown",
   "source": [],
   "metadata": {
    "collapsed": false
   }
  },
  {
   "cell_type": "markdown",
   "source": [
    "### Approach - 1: Approach Suggested by Medial Team by analysing columns with help of provided articles"
   ],
   "metadata": {
    "collapsed": false
   }
  },
  {
   "cell_type": "markdown",
   "source": [
    "### Approach - 1: Adding new Features"
   ],
   "metadata": {
    "collapsed": false
   }
  },
  {
   "cell_type": "code",
   "execution_count": 26,
   "outputs": [],
   "source": [
    "df_new_f = df_cleaned.copy()\n",
    "df_new_f = add_wsr(df_new_f)\n",
    "df_new_f = add_whr(df_new_f)"
   ],
   "metadata": {
    "collapsed": false
   }
  },
  {
   "cell_type": "markdown",
   "source": [
    "Approach - 1: Converting the features into categorical data"
   ],
   "metadata": {
    "collapsed": false
   }
  },
  {
   "cell_type": "code",
   "execution_count": 27,
   "outputs": [],
   "source": [
    "df_c = df_new_f.copy()\n",
    "df_c = convert_cholesterol_features(df_c)\n",
    "df_c = convert_glucose(df_c)\n",
    "df_c = convert_bp(df_c)\n",
    "df_c = convert_bmi(df_c)\n",
    "df_c = convert_age(df_c)"
   ],
   "metadata": {
    "collapsed": false
   }
  },
  {
   "cell_type": "markdown",
   "source": [
    "### Approach - 1: Without Feature Selection\n",
    "Checking performance without any explicit feature selection"
   ],
   "metadata": {
    "collapsed": false
   }
  },
  {
   "cell_type": "code",
   "execution_count": 30,
   "outputs": [
    {
     "name": "stdout",
     "output_type": "stream",
     "text": [
      "\n",
      "Comparing performance of different models and their Voting Ensemble\n",
      "                                                    accuracy  recall\n",
      "RandomForestClassifier()                               0.896  0.6250\n",
      "GradientBoostingClassifier()                           0.912  0.7500\n",
      "DecisionTreeClassifier()                               0.880  0.8125\n",
      "VotingClassifier(estimators=[('RandomForestClas...     0.912  0.7500\n"
     ]
    }
   ],
   "source": [
    "data_nfs = df_c.copy()\n",
    "print('')\n",
    "print('Comparing performance of different models and their Voting Ensemble')\n",
    "rf = RandomForestClassifier()\n",
    "gb = GradientBoostingClassifier()\n",
    "svm = SVC()\n",
    "dt = DecisionTreeClassifier()\n",
    "test_models(get_x(data_nfs), get_y(data_nfs), [rf, gb, dt,  voting_ensemble([rf, gb, dt])])"
   ],
   "metadata": {
    "collapsed": false
   }
  },
  {
   "cell_type": "code",
   "execution_count": 32,
   "outputs": [
    {
     "data": {
      "text/plain": "    Cholesterol (mg/dl)  Glucose (mg/dl)  HDL Chol (mg/dl)  TChol/HDL ratio  \\\n0                     0                0                 0                0   \n1                     0                0                 0                0   \n2                     0                0                 0                0   \n3                     0                0                 0                0   \n4                     0                0                 0                0   \n\n   Age  Gender  BMI (Kg/m^2)  Diabetes       WSR       WHR  BP  \n0    0       0             0         0  0.524855  0.842487   0  \n1    0       0             1         0  0.549869  0.824803   0  \n2    0       0             1         0  0.596945  0.888889   0  \n3    0       0             0         0  0.484010  0.794147   0  \n4    0       0             0         0  0.457255  0.820383   1  ",
      "text/html": "<div>\n<style scoped>\n    .dataframe tbody tr th:only-of-type {\n        vertical-align: middle;\n    }\n\n    .dataframe tbody tr th {\n        vertical-align: top;\n    }\n\n    .dataframe thead th {\n        text-align: right;\n    }\n</style>\n<table border=\"1\" class=\"dataframe\">\n  <thead>\n    <tr style=\"text-align: right;\">\n      <th></th>\n      <th>Cholesterol (mg/dl)</th>\n      <th>Glucose (mg/dl)</th>\n      <th>HDL Chol (mg/dl)</th>\n      <th>TChol/HDL ratio</th>\n      <th>Age</th>\n      <th>Gender</th>\n      <th>BMI (Kg/m^2)</th>\n      <th>Diabetes</th>\n      <th>WSR</th>\n      <th>WHR</th>\n      <th>BP</th>\n    </tr>\n  </thead>\n  <tbody>\n    <tr>\n      <th>0</th>\n      <td>0</td>\n      <td>0</td>\n      <td>0</td>\n      <td>0</td>\n      <td>0</td>\n      <td>0</td>\n      <td>0</td>\n      <td>0</td>\n      <td>0.524855</td>\n      <td>0.842487</td>\n      <td>0</td>\n    </tr>\n    <tr>\n      <th>1</th>\n      <td>0</td>\n      <td>0</td>\n      <td>0</td>\n      <td>0</td>\n      <td>0</td>\n      <td>0</td>\n      <td>1</td>\n      <td>0</td>\n      <td>0.549869</td>\n      <td>0.824803</td>\n      <td>0</td>\n    </tr>\n    <tr>\n      <th>2</th>\n      <td>0</td>\n      <td>0</td>\n      <td>0</td>\n      <td>0</td>\n      <td>0</td>\n      <td>0</td>\n      <td>1</td>\n      <td>0</td>\n      <td>0.596945</td>\n      <td>0.888889</td>\n      <td>0</td>\n    </tr>\n    <tr>\n      <th>3</th>\n      <td>0</td>\n      <td>0</td>\n      <td>0</td>\n      <td>0</td>\n      <td>0</td>\n      <td>0</td>\n      <td>0</td>\n      <td>0</td>\n      <td>0.484010</td>\n      <td>0.794147</td>\n      <td>0</td>\n    </tr>\n    <tr>\n      <th>4</th>\n      <td>0</td>\n      <td>0</td>\n      <td>0</td>\n      <td>0</td>\n      <td>0</td>\n      <td>0</td>\n      <td>0</td>\n      <td>0</td>\n      <td>0.457255</td>\n      <td>0.820383</td>\n      <td>1</td>\n    </tr>\n  </tbody>\n</table>\n</div>"
     },
     "execution_count": 32,
     "metadata": {},
     "output_type": "execute_result"
    }
   ],
   "source": [
    "df_c.head()"
   ],
   "metadata": {
    "collapsed": false
   }
  },
  {
   "cell_type": "markdown",
   "source": [
    "### Approach - 1: Feature Section with help of RFE (Recursive Feature Elimination) and PCA (Principal Component Analysis)\n",
    "performing RFE and evaluating with PCA to"
   ],
   "metadata": {
    "collapsed": false
   }
  },
  {
   "cell_type": "code",
   "execution_count": 39,
   "outputs": [
    {
     "name": "stdout",
     "output_type": "stream",
     "text": [
      "Explained variance ratio :  [23.9538312  20.045892   15.1705293  10.13981911  9.67674011  9.10017155\n",
      "  7.04419398  4.24915264  0.48563895  0.13403114]\n",
      "Features by RFE :  Index([' Cholesterol (mg/dl)', 'Glucose (mg/dl)', 'TChol/HDL ratio', 'Age',\n",
      "       'Gender', 'WSR', 'WHR', 'BP'],\n",
      "      dtype='object')\n"
     ]
    },
    {
     "data": {
      "text/plain": "<Figure size 432x288 with 1 Axes>",
      "image/png": "[encoded data removed]"
     },
     "metadata": {
      "needs_background": "light"
     },
     "output_type": "display_data"
    }
   ],
   "source": [
    "data_nfs = df_c.copy()\n",
    "pca_eval(data_nfs,df_c.drop(columns=['Diabetes']).columns)\n",
    "\n",
    "rfe_features = rfe_feature_selection(data_nfs, i=8)"
   ],
   "metadata": {
    "collapsed": false
   }
  },
  {
   "cell_type": "markdown",
   "source": [
    "We are using RFE to select features and evaluate feasibility with PCA to determine the number of features."
   ],
   "metadata": {
    "collapsed": false
   }
  },
  {
   "cell_type": "markdown",
   "source": [
    "### Approach - 1: : Comparing performance after Feature Selection"
   ],
   "metadata": {
    "collapsed": false
   }
  },
  {
   "cell_type": "code",
   "execution_count": 40,
   "outputs": [
    {
     "name": "stdout",
     "output_type": "stream",
     "text": [
      "\n",
      "Comparing performance of selected apporach with different models and their Voting Ensemble\n",
      "                                                    accuracy  recall\n",
      "RandomForestClassifier()                               0.888  0.6250\n",
      "GradientBoostingClassifier()                           0.912  0.7500\n",
      "DecisionTreeClassifier()                               0.896  0.8125\n",
      "VotingClassifier(estimators=[('RandomForestClas...     0.920  0.7500\n"
     ]
    }
   ],
   "source": [
    "final_x = data_nfs[rfe_features]\n",
    "final_y = get_y(data_nfs)\n",
    "print('')\n",
    "print('Comparing performance of selected apporach with different models and their Voting Ensemble')\n",
    "rf = RandomForestClassifier()\n",
    "gb = GradientBoostingClassifier()\n",
    "svm = SVC()\n",
    "dt = DecisionTreeClassifier()\n",
    "vc_ensemble = voting_ensemble([rf, gb, dt])\n",
    "test_models(final_x, final_y, [rf, gb, dt, vc_ensemble])"
   ],
   "metadata": {
    "collapsed": false
   }
  },
  {
   "cell_type": "markdown",
   "source": [
    "We would like to focus more on not missing the diabetic outcomes. So, it is important to consider the true positive rate (Recall rate) focusing identifying diabetic outcomes (reducing false negative rate)."
   ],
   "metadata": {
    "collapsed": false
   }
  },
  {
   "cell_type": "code",
   "execution_count": 46,
   "outputs": [
    {
     "name": "stdout",
     "output_type": "stream",
     "text": [
      "Accuracy : 0.87\n",
      "Balanced Accuracy : 0.85\n",
      "Recall : 0.81\n",
      "Classification Report :               precision    recall  f1-score   support\n",
      "\n",
      "           0       0.97      0.88      0.92       109\n",
      "           1       0.50      0.81      0.62        16\n",
      "\n",
      "    accuracy                           0.87       125\n",
      "   macro avg       0.73      0.85      0.77       125\n",
      "weighted avg       0.91      0.87      0.88       125\n",
      "\n"
     ]
    }
   ],
   "source": [
    "# execute_model(final_x, final_y, vc_ensemble, ['accuracy', 'recall', 'report'])\n",
    "execute_model(final_x, final_y, DecisionTreeClassifier(), ['accuracy', 'recall', 'report', 'b_accuracy'])"
   ],
   "metadata": {
    "collapsed": false
   }
  },
  {
   "cell_type": "markdown",
   "source": [
    "### Approach - 2: As suggested by colleague, building model without referring any articles"
   ],
   "metadata": {
    "collapsed": false
   }
  },
  {
   "cell_type": "code",
   "execution_count": 49,
   "outputs": [
    {
     "name": "stdout",
     "output_type": "stream",
     "text": [
      "                                             accuracy  recall\n",
      "RandomForestClassifier() with features = 2      0.944  0.7500\n",
      "RandomForestClassifier() with features = 3      0.960  0.8125\n",
      "RandomForestClassifier() with features = 4      0.952  0.8125\n",
      "RandomForestClassifier() with features = 5      0.952  0.8125\n",
      "RandomForestClassifier() with features = 6      0.952  0.8750\n",
      "RandomForestClassifier() with features = 7      0.952  0.8750\n",
      "RandomForestClassifier() with features = 8      0.952  0.8750\n",
      "RandomForestClassifier() with features = 9      0.936  0.8750\n",
      "RandomForestClassifier() with features = 10     0.936  0.8125\n",
      "RandomForestClassifier() with features = 11     0.944  0.8750\n",
      "RandomForestClassifier() with features = 12     0.944  0.7500\n",
      "RandomForestClassifier() with features = 13     0.960  0.8125\n",
      "\n",
      "\n",
      "Based on above process, we have better recall rate for 6 features\n",
      "Accuracy : 0.94\n",
      "Recall : 0.88\n",
      "\n",
      "\n",
      "Checking performance when picked features soley based on correlation with target variable\n",
      "Features by correlation values :- \n",
      "Index([' Cholesterol (mg/dl)', 'TChol/HDL ratio', 'Age', 'waist (cm)'], dtype='object')\n",
      "Accuracy : 0.88\n",
      "Recall : 0.44\n",
      "\n",
      "\n",
      "Comparing performance of selected apporach with different models and their Voting Ensemble\n",
      "                                                    accuracy  recall\n",
      "RandomForestClassifier()                               0.936  0.8750\n",
      "GradientBoostingClassifier()                           0.944  0.8750\n",
      "DecisionTreeClassifier()                               0.928  0.8125\n",
      "VotingClassifier(estimators=[('RandomForestClas...     0.952  0.8750\n"
     ]
    }
   ],
   "source": [
    "final_dx, final_dy, vc_ensemble_d = direct_approach(df_raw.copy(), 'k_best')"
   ],
   "metadata": {
    "collapsed": false
   }
  },
  {
   "cell_type": "markdown",
   "source": [
    "Based on the results from the (Approach - 2) direct approach as mentioned above, the Ensemble (Voting Classifier) has a better performance compared to other models."
   ],
   "metadata": {
    "collapsed": false
   }
  },
  {
   "cell_type": "markdown",
   "source": [
    "For Approach - 2, checking the performance if we remove the missing or Nan data during the cleaning phase instead of replacing them with the most frequent values."
   ],
   "metadata": {
    "collapsed": false
   }
  },
  {
   "cell_type": "code",
   "execution_count": 230,
   "outputs": [
    {
     "name": "stdout",
     "output_type": "stream",
     "text": [
      "Cleaning Zero values in Feature : Height /stature (cm) -  []\n",
      "Cleaning Zero values in Feature : weight1 (Kg) -  []\n",
      "Cleaning Zero values in Feature : weight2(Kg) -  []\n",
      "Cleaning Zero values in Feature : BMI (Kg/m^2) -  []\n",
      "Cleaning Zero values in Feature : waist (cm) -  []\n",
      "Cleaning Zero values in Feature : hip (cm) -  []\n",
      "                                             accuracy    recall\n",
      "RandomForestClassifier() with features = 2       0.91  0.666667\n",
      "RandomForestClassifier() with features = 3       0.90  0.750000\n",
      "RandomForestClassifier() with features = 4       0.91  0.750000\n",
      "RandomForestClassifier() with features = 5       0.93  0.750000\n",
      "RandomForestClassifier() with features = 6       0.92  0.750000\n",
      "RandomForestClassifier() with features = 7       0.92  0.750000\n",
      "RandomForestClassifier() with features = 8       0.91  0.666667\n",
      "RandomForestClassifier() with features = 9       0.92  0.750000\n",
      "RandomForestClassifier() with features = 10      0.92  0.750000\n",
      "RandomForestClassifier() with features = 11      0.90  0.666667\n",
      "RandomForestClassifier() with features = 12      0.91  0.666667\n",
      "RandomForestClassifier() with features = 13      0.91  0.666667\n",
      "\n",
      "\n",
      "Based on above process, we have better recall rate for 3 features\n",
      "Accuracy : 0.91\n",
      "Recall : 0.75\n",
      "\n",
      "\n",
      "Checking performance when picked features soley based on correlation with target variable\n",
      "Features by correlation values :- \n",
      "Index([' Cholesterol (mg/dl)', 'TChol/HDL ratio', 'Age', 'weight2(Kg)',\n",
      "       'Systolic BP', 'waist (cm)'],\n",
      "      dtype='object')\n",
      "Accuracy : 0.81\n",
      "Recall : 0.08\n",
      "\n",
      "\n",
      "Comparing performance of selected apporach with different models and their Voting Ensemble\n",
      "                                                    accuracy    recall\n",
      "RandomForestClassifier()                                0.91  0.750000\n",
      "GradientBoostingClassifier()                            0.91  0.666667\n",
      "DecisionTreeClassifier()                                0.89  0.666667\n",
      "VotingClassifier(estimators=[('RandomForestClas...      0.90  0.666667\n"
     ]
    }
   ],
   "source": [
    "a,b,c = direct_approach(df_raw.copy(), 'k_best', 0, 'remove', 'remove')"
   ],
   "metadata": {
    "collapsed": false
   }
  },
  {
   "cell_type": "markdown",
   "source": [
    "As we can see from the above results, performance is better when we replaced the missing data instead of removing them."
   ],
   "metadata": {
    "collapsed": false
   }
  },
  {
   "cell_type": "markdown",
   "source": [
    "### Approach - 2: Final Model\n",
    "Voting Model with Random Forest, Gradient Boosting and Decision Tree Classifiers as estimators."
   ],
   "metadata": {
    "collapsed": false
   }
  },
  {
   "cell_type": "code",
   "execution_count": 223,
   "outputs": [
    {
     "name": "stdout",
     "output_type": "stream",
     "text": [
      "Accuracy : 0.96\n",
      "Recall : 0.94\n",
      "Classification Report :               precision    recall  f1-score   support\n",
      "\n",
      "           0       0.99      0.96      0.98       109\n",
      "           1       0.79      0.94      0.86        16\n",
      "\n",
      "    accuracy                           0.96       125\n",
      "   macro avg       0.89      0.95      0.92       125\n",
      "weighted avg       0.96      0.96      0.96       125\n",
      "\n"
     ]
    }
   ],
   "source": [
    "execute_model(final_dx, final_dy, vc_ensemble_d, ['accuracy', 'recall', 'report'])"
   ],
   "metadata": {
    "collapsed": false
   }
  },
  {
   "cell_type": "markdown",
   "source": [],
   "metadata": {
    "collapsed": false
   }
  },
  {
   "cell_type": "code",
   "execution_count": null,
   "outputs": [],
   "source": [],
   "metadata": {
    "collapsed": false
   }
  },
  {
   "cell_type": "markdown",
   "source": [],
   "metadata": {
    "collapsed": false
   }
  },
  {
   "cell_type": "markdown",
   "source": [
    "### Conclusion :\n",
    "\n",
    "As suggested by the medical team, we have processed the data by analysing the features using the articles for each feature. First, we have converted the numerical features into categorical features. Then, using RFE and PCA, we picked the most significant features. We are using a Voting Classifier as the Ensemble system of Random Forrest, Decision Tree and Gradient Boosting Classifiers. This approach produces an accuracy of about 90 and a recall rate of 75 for the prediction of Diabetes. However, decision tree classifier alone was able to produce a model with 81 recall rate.\n",
    "\n",
    "As suggested by a colleague, the data was processed without considering the article and following a similar process and using the Voting Classifier with ensemble of Random Forrest, Gradient Boosting and Decision model, we achieved a better performance.\n",
    "\n",
    "Using the second approach, we have achieved 94 recall rates and 96 accuracy, which is better than Approach 1.\n",
    "\n",
    "Since the recall rate shows the ability to predict a patient with diabetes as diabetes, it can be considered the prime indicator. So, Approach 2 seems to be the better approach in this scenario and with the data available for diabetes prediction"
   ],
   "metadata": {
    "collapsed": false
   }
  },
  {
   "cell_type": "markdown",
   "source": [
    "### References\n",
    "\n",
    "1. Wang, S., Ma, W., Yuan, Z., Wang, S., Yi, X., Jia, H. and Xue, F. (2016). Association between obesity indices and type 2 diabetes mellitus among middle-aged and elderly people in Jinan, China: a cross-sectional study. BMJ Open, [online] 6(11), p.e012742. doi:10.1136/bmjopen-2016-012742.\n",
    "2. Hillier, T.A. and Pedula, K.L. (2001). Characteristics of an Adult Population With Newly Diagnosed Type 2 Diabetes: The relation of obesity and age of onset. Diabetes Care, 24(9), pp.1522–1527. doi:10.2337/diacare.24.9.1522. Available at: https://diabetesjournals.org/care/article/24/9/1522/21378/Characteristics-of-an-Adult-Population-With-Newly\n",
    "3. Lee, M.-K., Han, K. and Kwon, H.-S. (2019). Age-specific diabetes risk by the number of metabolic syndrome components: a Korean nationwide cohort study. Diabetology & Metabolic Syndrome, 11(1). doi:10.1186/s13098-019-0509-8. Available at: https://dmsjournal.biomedcentral.com/articles/10.1186/s13098-019-0509-8\n",
    "4. TheHealthSite. (2015). Everything you wanted to know about — cholesterol, lipid profile, VLDL, HDL and triglycerides | TheHealthSite.com. [online] Available at: https://www.thehealthsite.com/diseases-conditions/common-queries-about-cholesterol-lipid-profile-vldl-hdl-triglycerides-4697/.\n",
    "5. Centers for Disease Control and Prevention (2019). Diabetes Tests. [online] Centers for Disease Control and Prevention. Available at: https://www.cdc.gov/diabetes/basics/getting-tested.html.\n",
    "6. Edlitz, Y. and Segal, E. (2022). Prediction of type 2 diabetes mellitus onset using logistic regression-based scorecards. eLife, 11. doi:10.7554/elife.71862.\n",
    "7. Goldingay, H. and Hadi, M. (2022), CS4730_P1_A Machine Learning (2022-2023), MSc AI, Aston University."
   ],
   "metadata": {
    "collapsed": false
   }
  },
  {
   "cell_type": "code",
   "execution_count": null,
   "outputs": [],
   "source": [],
   "metadata": {
    "collapsed": false
   }
  }
 ],
 "metadata": {
  "kernelspec": {
   "display_name": "Python 3",
   "language": "python",
   "name": "python3"
  },
  "language_info": {
   "codemirror_mode": {
    "name": "ipython",
    "version": 2
   },
   "file_extension": ".py",
   "mimetype": "text/x-python",
   "name": "python",
   "nbconvert_exporter": "python",
   "pygments_lexer": "ipython2",
   "version": "2.7.6"
  }
 },
 "nbformat": 4,
 "nbformat_minor": 0
}
